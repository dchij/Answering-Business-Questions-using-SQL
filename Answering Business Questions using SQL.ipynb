{
 "cells": [
  {
   "cell_type": "markdown",
   "metadata": {
    "collapsed": true
   },
   "source": [
    "# Answering Business Questions using SQL\n",
    "\n",
    "We are going to use the modified version of the [Chinook](https://github.com/lerocha/chinook-database) database which is provided as a SQLite database file to answer some business questions. \n",
    "\n",
    "The Chinook database contains information about a fictional digital music shop - kind of like a mini-iTunes store. \n",
    "\n",
    "\n",
    "The Chinook database contains information about the artists, songs, and albums from the music shop, as well as information on the shop's employees, customers, and the customers purchases. This information is contained in eleven tables and this is the database diagram:"
   ]
  },
  {
   "cell_type": "markdown",
   "metadata": {},
   "source": [
    "    \n",
    "\n",
    "    \n",
    "   ![title](https://s3.amazonaws.com/dq-content/189/chinook-schema.svg)"
   ]
  },
  {
   "cell_type": "markdown",
   "metadata": {},
   "source": [
    "The questions we are going to go through are as follows:\n",
    "\n",
    "* Which genres sell the most tracks in the USA?\n",
    "* Which Sales support agents have the highest sales amount?\n",
    "* Which countries have the most value of sales and the number of customers?\n",
    "* Which one has more benefit, selling the whole album or the popular tracks?\n",
    "* Which artist is used in the most playlists?\n",
    "* How many tracks have been purchased vs not purchased?\n",
    "* Is the range of tracks in the store reflective of their sales popularity?\n",
    "* Do protected vs non-protected media types have an effect on popularity?"
   ]
  },
  {
   "cell_type": "markdown",
   "metadata": {},
   "source": [
    "Let's connect Jupyter Notebook to the database file and get started with our analysis"
   ]
  },
  {
   "cell_type": "code",
   "execution_count": 1,
   "metadata": {},
   "outputs": [
    {
     "data": {
      "text/plain": [
       "'Connected: None@chinook.db'"
      ]
     },
     "execution_count": 1,
     "metadata": {},
     "output_type": "execute_result"
    }
   ],
   "source": [
    "%%capture\n",
    "%load_ext sql\n",
    "%sql sqlite:///chinook.db"
   ]
  },
  {
   "cell_type": "markdown",
   "metadata": {},
   "source": [
    "Let's look at the list of tables the database contains and also look at some tables."
   ]
  },
  {
   "cell_type": "code",
   "execution_count": 2,
   "metadata": {},
   "outputs": [
    {
     "name": "stdout",
     "output_type": "stream",
     "text": [
      "Done.\n"
     ]
    },
    {
     "data": {
      "text/html": [
       "<table>\n",
       "    <tr>\n",
       "        <th>name</th>\n",
       "        <th>type</th>\n",
       "    </tr>\n",
       "    <tr>\n",
       "        <td>album</td>\n",
       "        <td>table</td>\n",
       "    </tr>\n",
       "    <tr>\n",
       "        <td>artist</td>\n",
       "        <td>table</td>\n",
       "    </tr>\n",
       "    <tr>\n",
       "        <td>customer</td>\n",
       "        <td>table</td>\n",
       "    </tr>\n",
       "    <tr>\n",
       "        <td>employee</td>\n",
       "        <td>table</td>\n",
       "    </tr>\n",
       "    <tr>\n",
       "        <td>genre</td>\n",
       "        <td>table</td>\n",
       "    </tr>\n",
       "    <tr>\n",
       "        <td>invoice</td>\n",
       "        <td>table</td>\n",
       "    </tr>\n",
       "    <tr>\n",
       "        <td>invoice_line</td>\n",
       "        <td>table</td>\n",
       "    </tr>\n",
       "    <tr>\n",
       "        <td>media_type</td>\n",
       "        <td>table</td>\n",
       "    </tr>\n",
       "    <tr>\n",
       "        <td>playlist</td>\n",
       "        <td>table</td>\n",
       "    </tr>\n",
       "    <tr>\n",
       "        <td>playlist_track</td>\n",
       "        <td>table</td>\n",
       "    </tr>\n",
       "    <tr>\n",
       "        <td>track</td>\n",
       "        <td>table</td>\n",
       "    </tr>\n",
       "</table>"
      ],
      "text/plain": [
       "[('album', 'table'),\n",
       " ('artist', 'table'),\n",
       " ('customer', 'table'),\n",
       " ('employee', 'table'),\n",
       " ('genre', 'table'),\n",
       " ('invoice', 'table'),\n",
       " ('invoice_line', 'table'),\n",
       " ('media_type', 'table'),\n",
       " ('playlist', 'table'),\n",
       " ('playlist_track', 'table'),\n",
       " ('track', 'table')]"
      ]
     },
     "execution_count": 2,
     "metadata": {},
     "output_type": "execute_result"
    }
   ],
   "source": [
    "%%sql\n",
    "SELECT\n",
    "    name,\n",
    "    type\n",
    "FROM sqlite_master\n",
    "WHERE type IN (\"table\",\"view\");"
   ]
  },
  {
   "cell_type": "code",
   "execution_count": 3,
   "metadata": {},
   "outputs": [
    {
     "name": "stdout",
     "output_type": "stream",
     "text": [
      "Done.\n"
     ]
    },
    {
     "data": {
      "text/html": [
       "<table>\n",
       "    <tr>\n",
       "        <th>customer_id</th>\n",
       "        <th>first_name</th>\n",
       "        <th>last_name</th>\n",
       "        <th>company</th>\n",
       "        <th>address</th>\n",
       "        <th>city</th>\n",
       "        <th>state</th>\n",
       "        <th>country</th>\n",
       "        <th>postal_code</th>\n",
       "        <th>phone</th>\n",
       "        <th>fax</th>\n",
       "        <th>email</th>\n",
       "        <th>support_rep_id</th>\n",
       "    </tr>\n",
       "    <tr>\n",
       "        <td>1</td>\n",
       "        <td>Luís</td>\n",
       "        <td>Gonçalves</td>\n",
       "        <td>Embraer - Empresa Brasileira de Aeronáutica S.A.</td>\n",
       "        <td>Av. Brigadeiro Faria Lima, 2170</td>\n",
       "        <td>São José dos Campos</td>\n",
       "        <td>SP</td>\n",
       "        <td>Brazil</td>\n",
       "        <td>12227-000</td>\n",
       "        <td>+55 (12) 3923-5555</td>\n",
       "        <td>+55 (12) 3923-5566</td>\n",
       "        <td>luisg@embraer.com.br</td>\n",
       "        <td>3</td>\n",
       "    </tr>\n",
       "</table>"
      ],
      "text/plain": [
       "[(1, 'Luís', 'Gonçalves', 'Embraer - Empresa Brasileira de Aeronáutica S.A.', 'Av. Brigadeiro Faria Lima, 2170', 'São José dos Campos', 'SP', 'Brazil', '12227-000', '+55 (12) 3923-5555', '+55 (12) 3923-5566', 'luisg@embraer.com.br', 3)]"
      ]
     },
     "execution_count": 3,
     "metadata": {},
     "output_type": "execute_result"
    }
   ],
   "source": [
    "%%sql\n",
    "SELECT * \n",
    "FROM customer \n",
    "Limit 1;"
   ]
  },
  {
   "cell_type": "markdown",
   "metadata": {},
   "source": [
    "## Selecting Albums to Purchase -- Which genres sell the most tracks in the USA?\n",
    "\n",
    "The Chinook record store has just signed a deal with a new record label, and we've been tasked with selecting the first three albums that will be added to the store, from a list of four. All four albums are by artists that don't have any tracks in the store right now - we have the artist names, and the genre of music they produce:\n",
    "\n",
    "* Regal (Hip-Hop)\n",
    "* Red Tone (Punk)\n",
    "* Meteor and the Girls (Pop)\n",
    "* Slim Jim Bites (Blues)\n",
    "\n",
    "The record label specializes in artists from the USA, and they have given Chinook some money to advertise the new albums in the USA, so we're interested in finding out which genres sell the best in the USA.\n",
    "\n",
    "We'll have to find out which genres sell the most tracks in the USA to make a recommendation for the three artists whose albums we should purchase for the store."
   ]
  },
  {
   "cell_type": "code",
   "execution_count": 4,
   "metadata": {},
   "outputs": [
    {
     "name": "stdout",
     "output_type": "stream",
     "text": [
      "Done.\n"
     ]
    },
    {
     "data": {
      "text/html": [
       "<table>\n",
       "    <tr>\n",
       "        <th>genre</th>\n",
       "        <th>tracks_sold</th>\n",
       "        <th>percentage_sold</th>\n",
       "    </tr>\n",
       "    <tr>\n",
       "        <td>Rock</td>\n",
       "        <td>561</td>\n",
       "        <td>53.37773549000951</td>\n",
       "    </tr>\n",
       "    <tr>\n",
       "        <td>Alternative &amp; Punk</td>\n",
       "        <td>130</td>\n",
       "        <td>12.369172216936251</td>\n",
       "    </tr>\n",
       "    <tr>\n",
       "        <td>Metal</td>\n",
       "        <td>124</td>\n",
       "        <td>11.798287345385347</td>\n",
       "    </tr>\n",
       "    <tr>\n",
       "        <td>R&amp;B/Soul</td>\n",
       "        <td>53</td>\n",
       "        <td>5.042816365366318</td>\n",
       "    </tr>\n",
       "    <tr>\n",
       "        <td>Blues</td>\n",
       "        <td>36</td>\n",
       "        <td>3.425309229305423</td>\n",
       "    </tr>\n",
       "    <tr>\n",
       "        <td>Alternative</td>\n",
       "        <td>35</td>\n",
       "        <td>3.3301617507136063</td>\n",
       "    </tr>\n",
       "    <tr>\n",
       "        <td>Latin</td>\n",
       "        <td>22</td>\n",
       "        <td>2.093244529019981</td>\n",
       "    </tr>\n",
       "    <tr>\n",
       "        <td>Pop</td>\n",
       "        <td>22</td>\n",
       "        <td>2.093244529019981</td>\n",
       "    </tr>\n",
       "    <tr>\n",
       "        <td>Hip Hop/Rap</td>\n",
       "        <td>20</td>\n",
       "        <td>1.9029495718363463</td>\n",
       "    </tr>\n",
       "    <tr>\n",
       "        <td>Jazz</td>\n",
       "        <td>14</td>\n",
       "        <td>1.3320647002854424</td>\n",
       "    </tr>\n",
       "    <tr>\n",
       "        <td>Easy Listening</td>\n",
       "        <td>13</td>\n",
       "        <td>1.236917221693625</td>\n",
       "    </tr>\n",
       "    <tr>\n",
       "        <td>Reggae</td>\n",
       "        <td>6</td>\n",
       "        <td>0.570884871550904</td>\n",
       "    </tr>\n",
       "    <tr>\n",
       "        <td>Electronica/Dance</td>\n",
       "        <td>5</td>\n",
       "        <td>0.47573739295908657</td>\n",
       "    </tr>\n",
       "    <tr>\n",
       "        <td>Classical</td>\n",
       "        <td>4</td>\n",
       "        <td>0.3805899143672693</td>\n",
       "    </tr>\n",
       "    <tr>\n",
       "        <td>Heavy Metal</td>\n",
       "        <td>3</td>\n",
       "        <td>0.285442435775452</td>\n",
       "    </tr>\n",
       "    <tr>\n",
       "        <td>Soundtrack</td>\n",
       "        <td>2</td>\n",
       "        <td>0.19029495718363465</td>\n",
       "    </tr>\n",
       "    <tr>\n",
       "        <td>TV Shows</td>\n",
       "        <td>1</td>\n",
       "        <td>0.09514747859181732</td>\n",
       "    </tr>\n",
       "</table>"
      ],
      "text/plain": [
       "[('Rock', 561, 53.37773549000951),\n",
       " ('Alternative & Punk', 130, 12.369172216936251),\n",
       " ('Metal', 124, 11.798287345385347),\n",
       " ('R&B/Soul', 53, 5.042816365366318),\n",
       " ('Blues', 36, 3.425309229305423),\n",
       " ('Alternative', 35, 3.3301617507136063),\n",
       " ('Latin', 22, 2.093244529019981),\n",
       " ('Pop', 22, 2.093244529019981),\n",
       " ('Hip Hop/Rap', 20, 1.9029495718363463),\n",
       " ('Jazz', 14, 1.3320647002854424),\n",
       " ('Easy Listening', 13, 1.236917221693625),\n",
       " ('Reggae', 6, 0.570884871550904),\n",
       " ('Electronica/Dance', 5, 0.47573739295908657),\n",
       " ('Classical', 4, 0.3805899143672693),\n",
       " ('Heavy Metal', 3, 0.285442435775452),\n",
       " ('Soundtrack', 2, 0.19029495718363465),\n",
       " ('TV Shows', 1, 0.09514747859181732)]"
      ]
     },
     "execution_count": 4,
     "metadata": {},
     "output_type": "execute_result"
    }
   ],
   "source": [
    "%%sql\n",
    "WITH usa_sales AS \n",
    "                 (SELECT *\n",
    "                 FROM invoice iv\n",
    "                 INNER JOIN invoice_line il \n",
    "                 ON il.invoice_id = iv.invoice_id\n",
    "                 INNER JOIN customer c \n",
    "                 ON c.customer_id = iv.customer_id\n",
    "                 WHERE c.country = 'USA')\n",
    "\n",
    "\n",
    "SELECT g.name genre,\n",
    "       COUNT(t.track_id) tracks_sold,\n",
    "       CAST(COUNT(t.track_id) AS float)/(SELECT COUNT(*)FROM usa_sales) *100\n",
    "        AS percentage_sold\n",
    "FROM usa_sales us\n",
    "INNER JOIN track t ON t.track_id = us.track_id\n",
    "INNER JOIN genre g ON g.genre_id = t.genre_id\n",
    "GROUP BY g.genre_id\n",
    "ORDER BY 2 DESC;\n"
   ]
  },
  {
   "cell_type": "markdown",
   "metadata": {},
   "source": [
    "Another way to solve this:"
   ]
  },
  {
   "cell_type": "code",
   "execution_count": 5,
   "metadata": {},
   "outputs": [
    {
     "name": "stdout",
     "output_type": "stream",
     "text": [
      "Done.\n"
     ]
    },
    {
     "data": {
      "text/html": [
       "<table>\n",
       "    <tr>\n",
       "        <th>genre</th>\n",
       "        <th>tracks_sold</th>\n",
       "        <th>percentage_sold</th>\n",
       "    </tr>\n",
       "    <tr>\n",
       "        <td>Rock</td>\n",
       "        <td>561</td>\n",
       "        <td>53.37773549000951</td>\n",
       "    </tr>\n",
       "    <tr>\n",
       "        <td>Alternative &amp; Punk</td>\n",
       "        <td>130</td>\n",
       "        <td>12.369172216936251</td>\n",
       "    </tr>\n",
       "    <tr>\n",
       "        <td>Metal</td>\n",
       "        <td>124</td>\n",
       "        <td>11.798287345385347</td>\n",
       "    </tr>\n",
       "    <tr>\n",
       "        <td>R&amp;B/Soul</td>\n",
       "        <td>53</td>\n",
       "        <td>5.042816365366318</td>\n",
       "    </tr>\n",
       "    <tr>\n",
       "        <td>Blues</td>\n",
       "        <td>36</td>\n",
       "        <td>3.425309229305423</td>\n",
       "    </tr>\n",
       "    <tr>\n",
       "        <td>Alternative</td>\n",
       "        <td>35</td>\n",
       "        <td>3.3301617507136063</td>\n",
       "    </tr>\n",
       "    <tr>\n",
       "        <td>Latin</td>\n",
       "        <td>22</td>\n",
       "        <td>2.093244529019981</td>\n",
       "    </tr>\n",
       "    <tr>\n",
       "        <td>Pop</td>\n",
       "        <td>22</td>\n",
       "        <td>2.093244529019981</td>\n",
       "    </tr>\n",
       "    <tr>\n",
       "        <td>Hip Hop/Rap</td>\n",
       "        <td>20</td>\n",
       "        <td>1.9029495718363463</td>\n",
       "    </tr>\n",
       "    <tr>\n",
       "        <td>Jazz</td>\n",
       "        <td>14</td>\n",
       "        <td>1.3320647002854424</td>\n",
       "    </tr>\n",
       "    <tr>\n",
       "        <td>Easy Listening</td>\n",
       "        <td>13</td>\n",
       "        <td>1.236917221693625</td>\n",
       "    </tr>\n",
       "    <tr>\n",
       "        <td>Reggae</td>\n",
       "        <td>6</td>\n",
       "        <td>0.570884871550904</td>\n",
       "    </tr>\n",
       "    <tr>\n",
       "        <td>Electronica/Dance</td>\n",
       "        <td>5</td>\n",
       "        <td>0.47573739295908657</td>\n",
       "    </tr>\n",
       "    <tr>\n",
       "        <td>Classical</td>\n",
       "        <td>4</td>\n",
       "        <td>0.3805899143672693</td>\n",
       "    </tr>\n",
       "    <tr>\n",
       "        <td>Heavy Metal</td>\n",
       "        <td>3</td>\n",
       "        <td>0.285442435775452</td>\n",
       "    </tr>\n",
       "    <tr>\n",
       "        <td>Soundtrack</td>\n",
       "        <td>2</td>\n",
       "        <td>0.19029495718363465</td>\n",
       "    </tr>\n",
       "    <tr>\n",
       "        <td>TV Shows</td>\n",
       "        <td>1</td>\n",
       "        <td>0.09514747859181732</td>\n",
       "    </tr>\n",
       "</table>"
      ],
      "text/plain": [
       "[('Rock', 561, 53.37773549000951),\n",
       " ('Alternative & Punk', 130, 12.369172216936251),\n",
       " ('Metal', 124, 11.798287345385347),\n",
       " ('R&B/Soul', 53, 5.042816365366318),\n",
       " ('Blues', 36, 3.425309229305423),\n",
       " ('Alternative', 35, 3.3301617507136063),\n",
       " ('Latin', 22, 2.093244529019981),\n",
       " ('Pop', 22, 2.093244529019981),\n",
       " ('Hip Hop/Rap', 20, 1.9029495718363463),\n",
       " ('Jazz', 14, 1.3320647002854424),\n",
       " ('Easy Listening', 13, 1.236917221693625),\n",
       " ('Reggae', 6, 0.570884871550904),\n",
       " ('Electronica/Dance', 5, 0.47573739295908657),\n",
       " ('Classical', 4, 0.3805899143672693),\n",
       " ('Heavy Metal', 3, 0.285442435775452),\n",
       " ('Soundtrack', 2, 0.19029495718363465),\n",
       " ('TV Shows', 1, 0.09514747859181732)]"
      ]
     },
     "execution_count": 5,
     "metadata": {},
     "output_type": "execute_result"
    }
   ],
   "source": [
    "%%sql\n",
    "\n",
    "WITH usa_sales AS \n",
    "                 (SELECT *, g.name genre\n",
    "                  FROM invoice iv\n",
    "                  INNER JOIN invoice_line il \n",
    "                  ON il.invoice_id = iv.invoice_id\n",
    "                  INNER JOIN customer c \n",
    "                  ON c.customer_id = iv.customer_id\n",
    "                  INNER JOIN track t ON t.track_id = il.track_id\n",
    "                  INNER JOIN genre g ON g.genre_id = t.genre_id\n",
    "                  WHERE c.country = 'USA')\n",
    "\n",
    "\n",
    "SELECT genre,\n",
    "       COUNT(track_id) tracks_sold,\n",
    "       CAST(COUNT(track_id) AS float)/(SELECT COUNT(*) FROM usa_sales) *100\n",
    "        AS percentage_sold\n",
    "FROM usa_sales us\n",
    "GROUP BY 1\n",
    "ORDER BY 2 DESC;\n"
   ]
  },
  {
   "cell_type": "markdown",
   "metadata": {},
   "source": [
    "Based on the genres that sell the best in the USA, we can select following three artists whose albums we should purchase for the store:\n",
    "\n",
    "* Red Tone (Punk: 2nd place)\n",
    "* Slim Jim Bites (Blues: 5th place)\n",
    "* Meteor and the Girls (Pop: 8th place)\n",
    "\n",
    "It's worth keeping in mind that combined, these three genres only make up only 17% of total sales, so we should be on the lookout for artists and albums from the 'rock' genre, which accounts for 53% of sales."
   ]
  },
  {
   "cell_type": "markdown",
   "metadata": {},
   "source": [
    "## Analyzing Employee Sales Performance\n",
    "\n",
    "Each customer for the Chinook store gets assigned to a sales support agent within the company when they first make a purchase. We have been asked to analyze the purchases of customers belonging to each employee to see if any sales support agent is performing either better or worse than the others.\n",
    "\n",
    "You might like to consider whether any extra columns (like the hire date) from the employee table explain any variance you see, or whether the variance might instead be indicative of employee performance."
   ]
  },
  {
   "cell_type": "code",
   "execution_count": 6,
   "metadata": {},
   "outputs": [
    {
     "name": "stdout",
     "output_type": "stream",
     "text": [
      "Done.\n"
     ]
    },
    {
     "data": {
      "text/html": [
       "<table>\n",
       "    <tr>\n",
       "        <th>employee_name</th>\n",
       "        <th>hire_date</th>\n",
       "        <th>title</th>\n",
       "        <th>total_sales</th>\n",
       "    </tr>\n",
       "    <tr>\n",
       "        <td>Jane Peacock</td>\n",
       "        <td>2017-04-01 00:00:00</td>\n",
       "        <td>Sales Support Agent</td>\n",
       "        <td>1731.51</td>\n",
       "    </tr>\n",
       "    <tr>\n",
       "        <td>Margaret Park</td>\n",
       "        <td>2017-05-03 00:00:00</td>\n",
       "        <td>Sales Support Agent</td>\n",
       "        <td>1584.0</td>\n",
       "    </tr>\n",
       "    <tr>\n",
       "        <td>Steve Johnson</td>\n",
       "        <td>2017-10-17 00:00:00</td>\n",
       "        <td>Sales Support Agent</td>\n",
       "        <td>1393.92</td>\n",
       "    </tr>\n",
       "</table>"
      ],
      "text/plain": [
       "[('Jane Peacock', '2017-04-01 00:00:00', 'Sales Support Agent', 1731.51),\n",
       " ('Margaret Park', '2017-05-03 00:00:00', 'Sales Support Agent', 1584.0),\n",
       " ('Steve Johnson', '2017-10-17 00:00:00', 'Sales Support Agent', 1393.92)]"
      ]
     },
     "execution_count": 6,
     "metadata": {},
     "output_type": "execute_result"
    }
   ],
   "source": [
    "%%sql\n",
    "\n",
    "SELECT em.first_name || ' ' || em.last_name employee_name,\n",
    "       em.hire_date,\n",
    "       em.title,\n",
    "       ROUND(SUM(iv.total),2) total_sales\n",
    "FROM employee em\n",
    "INNER JOIN customer c\n",
    "ON em.employee_id = c.support_rep_id\n",
    "INNER JOIN invoice iv\n",
    "ON iv.customer_id = c.customer_id\n",
    "GROUP BY 1\n",
    "ORDER BY 4 DESC;"
   ]
  },
  {
   "cell_type": "markdown",
   "metadata": {},
   "source": [
    "While there is a 20% difference in sales between Jane (the top employee) and Steve (the bottom employee), the difference roughly corresponds with the differences in their hiring dates."
   ]
  },
  {
   "cell_type": "markdown",
   "metadata": {
    "collapsed": true
   },
   "source": [
    "## Analyzing Sales by Country\n",
    "\n",
    "Our next task is to analyze the sales data for customers from each different country. We have been given guidance to use the country value from the customers table, and ignore the country from the billing address in the invoice table.\n",
    "\n",
    "In particular, we have been directed to calculate data, for each country, on the:\n",
    "\n",
    "* total number of customers\n",
    "* total value of sales\n",
    "* average value of sales \n",
    "* average order value\n",
    "\n"
   ]
  },
  {
   "cell_type": "code",
   "execution_count": 7,
   "metadata": {},
   "outputs": [
    {
     "name": "stdout",
     "output_type": "stream",
     "text": [
      "Done.\n"
     ]
    },
    {
     "data": {
      "text/html": [
       "<table>\n",
       "    <tr>\n",
       "        <th>country</th>\n",
       "        <th>num_of_customers</th>\n",
       "        <th>total_sales</th>\n",
       "        <th>average_val_sales</th>\n",
       "        <th>average_order</th>\n",
       "    </tr>\n",
       "    <tr>\n",
       "        <td>USA</td>\n",
       "        <td>13</td>\n",
       "        <td>1040.49</td>\n",
       "        <td>80.03769230769231</td>\n",
       "        <td>7.942671755725191</td>\n",
       "    </tr>\n",
       "    <tr>\n",
       "        <td>Canada</td>\n",
       "        <td>8</td>\n",
       "        <td>535.59</td>\n",
       "        <td>66.94875</td>\n",
       "        <td>7.047236842105264</td>\n",
       "    </tr>\n",
       "    <tr>\n",
       "        <td>Brazil</td>\n",
       "        <td>5</td>\n",
       "        <td>427.67999999999995</td>\n",
       "        <td>85.53599999999999</td>\n",
       "        <td>7.011147540983606</td>\n",
       "    </tr>\n",
       "    <tr>\n",
       "        <td>France</td>\n",
       "        <td>5</td>\n",
       "        <td>389.07</td>\n",
       "        <td>77.814</td>\n",
       "        <td>7.7814</td>\n",
       "    </tr>\n",
       "    <tr>\n",
       "        <td>Germany</td>\n",
       "        <td>4</td>\n",
       "        <td>334.62</td>\n",
       "        <td>83.655</td>\n",
       "        <td>8.161463414634147</td>\n",
       "    </tr>\n",
       "    <tr>\n",
       "        <td>Czech Republic</td>\n",
       "        <td>2</td>\n",
       "        <td>273.24</td>\n",
       "        <td>136.62</td>\n",
       "        <td>9.108</td>\n",
       "    </tr>\n",
       "    <tr>\n",
       "        <td>United Kingdom</td>\n",
       "        <td>3</td>\n",
       "        <td>245.51999999999998</td>\n",
       "        <td>81.83999999999999</td>\n",
       "        <td>8.768571428571429</td>\n",
       "    </tr>\n",
       "    <tr>\n",
       "        <td>Portugal</td>\n",
       "        <td>2</td>\n",
       "        <td>185.13</td>\n",
       "        <td>92.565</td>\n",
       "        <td>6.3837931034482756</td>\n",
       "    </tr>\n",
       "    <tr>\n",
       "        <td>India</td>\n",
       "        <td>2</td>\n",
       "        <td>183.14999999999998</td>\n",
       "        <td>91.57499999999999</td>\n",
       "        <td>8.72142857142857</td>\n",
       "    </tr>\n",
       "    <tr>\n",
       "        <td>Ireland</td>\n",
       "        <td>1</td>\n",
       "        <td>114.83999999999997</td>\n",
       "        <td>114.83999999999997</td>\n",
       "        <td>8.833846153846151</td>\n",
       "    </tr>\n",
       "    <tr>\n",
       "        <td>Spain</td>\n",
       "        <td>1</td>\n",
       "        <td>98.01</td>\n",
       "        <td>98.01</td>\n",
       "        <td>8.91</td>\n",
       "    </tr>\n",
       "    <tr>\n",
       "        <td>Chile</td>\n",
       "        <td>1</td>\n",
       "        <td>97.02000000000001</td>\n",
       "        <td>97.02000000000001</td>\n",
       "        <td>7.463076923076924</td>\n",
       "    </tr>\n",
       "    <tr>\n",
       "        <td>Australia</td>\n",
       "        <td>1</td>\n",
       "        <td>81.18</td>\n",
       "        <td>81.18</td>\n",
       "        <td>8.118</td>\n",
       "    </tr>\n",
       "    <tr>\n",
       "        <td>Finland</td>\n",
       "        <td>1</td>\n",
       "        <td>79.2</td>\n",
       "        <td>79.2</td>\n",
       "        <td>7.2</td>\n",
       "    </tr>\n",
       "    <tr>\n",
       "        <td>Hungary</td>\n",
       "        <td>1</td>\n",
       "        <td>78.21</td>\n",
       "        <td>78.21</td>\n",
       "        <td>7.821</td>\n",
       "    </tr>\n",
       "    <tr>\n",
       "        <td>Poland</td>\n",
       "        <td>1</td>\n",
       "        <td>76.22999999999999</td>\n",
       "        <td>76.22999999999999</td>\n",
       "        <td>7.622999999999999</td>\n",
       "    </tr>\n",
       "    <tr>\n",
       "        <td>Sweden</td>\n",
       "        <td>1</td>\n",
       "        <td>75.24</td>\n",
       "        <td>75.24</td>\n",
       "        <td>7.523999999999999</td>\n",
       "    </tr>\n",
       "    <tr>\n",
       "        <td>Norway</td>\n",
       "        <td>1</td>\n",
       "        <td>72.27000000000001</td>\n",
       "        <td>72.27000000000001</td>\n",
       "        <td>8.030000000000001</td>\n",
       "    </tr>\n",
       "    <tr>\n",
       "        <td>Austria</td>\n",
       "        <td>1</td>\n",
       "        <td>69.3</td>\n",
       "        <td>69.3</td>\n",
       "        <td>7.699999999999999</td>\n",
       "    </tr>\n",
       "    <tr>\n",
       "        <td>Netherlands</td>\n",
       "        <td>1</td>\n",
       "        <td>65.34</td>\n",
       "        <td>65.34</td>\n",
       "        <td>6.534000000000001</td>\n",
       "    </tr>\n",
       "    <tr>\n",
       "        <td>Belgium</td>\n",
       "        <td>1</td>\n",
       "        <td>60.38999999999999</td>\n",
       "        <td>60.38999999999999</td>\n",
       "        <td>8.627142857142855</td>\n",
       "    </tr>\n",
       "    <tr>\n",
       "        <td>Italy</td>\n",
       "        <td>1</td>\n",
       "        <td>50.49</td>\n",
       "        <td>50.49</td>\n",
       "        <td>5.61</td>\n",
       "    </tr>\n",
       "    <tr>\n",
       "        <td>Argentina</td>\n",
       "        <td>1</td>\n",
       "        <td>39.6</td>\n",
       "        <td>39.6</td>\n",
       "        <td>7.92</td>\n",
       "    </tr>\n",
       "    <tr>\n",
       "        <td>Denmark</td>\n",
       "        <td>1</td>\n",
       "        <td>37.61999999999999</td>\n",
       "        <td>37.61999999999999</td>\n",
       "        <td>3.761999999999999</td>\n",
       "    </tr>\n",
       "</table>"
      ],
      "text/plain": [
       "[('USA', 13, 1040.49, 80.03769230769231, 7.942671755725191),\n",
       " ('Canada', 8, 535.59, 66.94875, 7.047236842105264),\n",
       " ('Brazil', 5, 427.67999999999995, 85.53599999999999, 7.011147540983606),\n",
       " ('France', 5, 389.07, 77.814, 7.7814),\n",
       " ('Germany', 4, 334.62, 83.655, 8.161463414634147),\n",
       " ('Czech Republic', 2, 273.24, 136.62, 9.108),\n",
       " ('United Kingdom', 3, 245.51999999999998, 81.83999999999999, 8.768571428571429),\n",
       " ('Portugal', 2, 185.13, 92.565, 6.3837931034482756),\n",
       " ('India', 2, 183.14999999999998, 91.57499999999999, 8.72142857142857),\n",
       " ('Ireland', 1, 114.83999999999997, 114.83999999999997, 8.833846153846151),\n",
       " ('Spain', 1, 98.01, 98.01, 8.91),\n",
       " ('Chile', 1, 97.02000000000001, 97.02000000000001, 7.463076923076924),\n",
       " ('Australia', 1, 81.18, 81.18, 8.118),\n",
       " ('Finland', 1, 79.2, 79.2, 7.2),\n",
       " ('Hungary', 1, 78.21, 78.21, 7.821),\n",
       " ('Poland', 1, 76.22999999999999, 76.22999999999999, 7.622999999999999),\n",
       " ('Sweden', 1, 75.24, 75.24, 7.523999999999999),\n",
       " ('Norway', 1, 72.27000000000001, 72.27000000000001, 8.030000000000001),\n",
       " ('Austria', 1, 69.3, 69.3, 7.699999999999999),\n",
       " ('Netherlands', 1, 65.34, 65.34, 6.534000000000001),\n",
       " ('Belgium', 1, 60.38999999999999, 60.38999999999999, 8.627142857142855),\n",
       " ('Italy', 1, 50.49, 50.49, 5.61),\n",
       " ('Argentina', 1, 39.6, 39.6, 7.92),\n",
       " ('Denmark', 1, 37.61999999999999, 37.61999999999999, 3.761999999999999)]"
      ]
     },
     "execution_count": 7,
     "metadata": {},
     "output_type": "execute_result"
    }
   ],
   "source": [
    "%%sql\n",
    "\n",
    "WITH sales_sum AS \n",
    "               (SELECT c.customer_id, \n",
    "                       SUM(iv.total) total_val_sales,\n",
    "                       COUNT(iv.customer_id) num_of_purchase,     \n",
    "                       c.country\n",
    "               FROM customer c \n",
    "               INNER JOIN invoice iv\n",
    "               ON c.customer_id = iv.customer_id\n",
    "           \n",
    "               GROUP BY 1)\n",
    "\n",
    "\n",
    "\n",
    "SELECT country, \n",
    "       COUNT(customer_id) num_of_customers,\n",
    "       SUM(total_val_sales) total_sales,\n",
    "       SUM(CAST(total_val_sales AS float))/COUNT(customer_id) average_val_sales, \n",
    "       SUM(CAST(total_val_sales AS float))/SUM(num_of_purchase) average_order    \n",
    "            \n",
    "FROM sales_sum\n",
    "GROUP BY country\n",
    "ORDER BY total_sales DESC;\n",
    "             \n"
   ]
  },
  {
   "cell_type": "markdown",
   "metadata": {},
   "source": [
    "Based on the results, we can conclude that the USA is by far the most important country for sales. Also, based on the average order result data, there may be opportunity in the following countries:\n",
    "\n",
    "* Czech Republic\n",
    "* United Kingdom\n",
    "* India\n",
    "\n",
    "It's worth keeping in mind that because the amount of data from each of these countries is relatively low. Because of this, we should be cautious spending too much money on new marketing campaigns, as the sample size is not large enough to give us high confidence. A better approach would be to run small campaigns in these countries, collecting and analyzing the new customers to make sure that these trends hold with new customers."
   ]
  },
  {
   "cell_type": "markdown",
   "metadata": {
    "collapsed": true
   },
   "source": [
    "## Albums vs Individual Tracks\n",
    "\n",
    "The Chinook store is set up in a way that allows a customer to make purchases in one of the two ways:\n",
    "\n",
    "* purchase a whole album\n",
    "* purchase a collection of one or more individual tracks.\n",
    "The store does not let customers purchase a whole album, and then add individual tracks to that same purchase (unless they do that by choosing each track manually). When customers purchase albums they are charged the same price as if they had purchased each of those tracks separately.\n",
    "\n",
    "Management is currently considering changing its purchasing strategy to save money. The strategy they are considering is to purchase only the most popular tracks from each album from record companies, instead of purchasing every track from an album.\n",
    "\n",
    "I am going to find out what percentage of purchases are individual tracks vs whole albums, so that management can use this data to understand the effect this decision might have on overall revenue.\n",
    "\n",
    "There are two edge cases to consider:\n",
    "\n",
    "* Albums that have only one or two tracks are likely to be purchased by customers as part of a collection of individual tracks.\n",
    "* Customers may decide to manually select every track from an album, and then add a few individual tracks from other albums to their purchase.\n",
    "\n",
    "In the first case, since our analysis is concerned with maximizing revenue we can safely ignore albums consisting of only a few tracks. The company has previously done an analysis to confirm that the second case does not happen often, so we can ignore this case also."
   ]
  },
  {
   "cell_type": "code",
   "execution_count": 8,
   "metadata": {},
   "outputs": [
    {
     "name": "stdout",
     "output_type": "stream",
     "text": [
      "Done.\n"
     ]
    },
    {
     "data": {
      "text/html": [
       "<table>\n",
       "    <tr>\n",
       "        <th>purchase_cat</th>\n",
       "        <th>amount</th>\n",
       "        <th>percentage</th>\n",
       "    </tr>\n",
       "    <tr>\n",
       "        <td>album</td>\n",
       "        <td>114</td>\n",
       "        <td>0.19</td>\n",
       "    </tr>\n",
       "    <tr>\n",
       "        <td>single</td>\n",
       "        <td>500</td>\n",
       "        <td>0.81</td>\n",
       "    </tr>\n",
       "</table>"
      ],
      "text/plain": [
       "[('album', 114, 0.19), ('single', 500, 0.81)]"
      ]
     },
     "execution_count": 8,
     "metadata": {},
     "output_type": "execute_result"
    }
   ],
   "source": [
    "%%sql\n",
    "WITH \n",
    "track_album AS \n",
    "             (SELECT t.album_id,\n",
    "                     COUNT(t.track_id) track_num      \n",
    "              FROM track t\n",
    "              INNER JOIN album a ON a.album_id = t.album_id\n",
    "              GROUP BY 1),\n",
    "\n",
    "orders AS \n",
    "            (SELECT i.invoice_id,\n",
    "                    a.album_id,\n",
    "                    COUNT(il.track_id) track_num\n",
    "             FROM invoice i\n",
    "             INNER JOIN invoice_line il ON il.invoice_id = i.invoice_id\n",
    "             INNER JOIN track t ON t.track_id = il.track_id\n",
    "             INNER JOIN album a ON a.album_id = t.album_id\n",
    "             GROUP BY 1,2),\n",
    "\n",
    "purchase_cat AS \n",
    "               (SELECT CASE \n",
    "                       WHEN o.track_num = ta.track_num THEN 'album' \n",
    "                       ELSE 'single'\n",
    "                       END AS purchase_cat,\n",
    "                       o.invoice_id\n",
    "               FROM orders o\n",
    "               INNER JOIN track_album ta ON ta.album_id = o.album_id),\n",
    "\n",
    "edge_free_cat AS \n",
    "              (SELECT CASE\n",
    "                      WHEN COUNT(DISTINCT(purchase_cat))= 2 THEN 'single'\n",
    "                      ELSE purchase_cat\n",
    "                      END AS purchase_cat,\n",
    "                      invoice_id\n",
    "              FROM purchase_cat\n",
    "              GROUP BY invoice_id)\n",
    "\n",
    "SELECT purchase_cat,\n",
    "       COUNT(invoice_id) amount,\n",
    "       ROUND(CAST(COUNT(invoice_id) AS FLOAT)/ (SELECT COUNT(invoice_id) FROM edge_free_cat),2) percentage\n",
    "FROM edge_free_cat\n",
    "GROUP BY purchase_cat;\n",
    "\n"
   ]
  },
  {
   "cell_type": "markdown",
   "metadata": {
    "collapsed": true
   },
   "source": [
    "Album purchases account for 19% of purchases. Based on this data, I would recommend against purchasing only select tracks from albums from record companies, since there is potential to lose one fifth of revenue."
   ]
  },
  {
   "cell_type": "markdown",
   "metadata": {},
   "source": [
    "## Which artist is used in the most playlists?"
   ]
  },
  {
   "cell_type": "code",
   "execution_count": 9,
   "metadata": {},
   "outputs": [
    {
     "name": "stdout",
     "output_type": "stream",
     "text": [
      "Done.\n"
     ]
    },
    {
     "data": {
      "text/html": [
       "<table>\n",
       "    <tr>\n",
       "        <th>artist_name</th>\n",
       "        <th>genre</th>\n",
       "        <th>num_of_playlists</th>\n",
       "    </tr>\n",
       "    <tr>\n",
       "        <td>Eugene Ormandy</td>\n",
       "        <td>Classical</td>\n",
       "        <td>7</td>\n",
       "    </tr>\n",
       "    <tr>\n",
       "        <td>Academy of St. Martin in the Fields &amp; Sir Neville Marriner</td>\n",
       "        <td>Classical</td>\n",
       "        <td>6</td>\n",
       "    </tr>\n",
       "    <tr>\n",
       "        <td>Berliner Philharmoniker &amp; Herbert Von Karajan</td>\n",
       "        <td>Classical</td>\n",
       "        <td>6</td>\n",
       "    </tr>\n",
       "    <tr>\n",
       "        <td>English Concert &amp; Trevor Pinnock</td>\n",
       "        <td>Classical</td>\n",
       "        <td>6</td>\n",
       "    </tr>\n",
       "    <tr>\n",
       "        <td>The King&#x27;s Singers</td>\n",
       "        <td>Classical</td>\n",
       "        <td>6</td>\n",
       "    </tr>\n",
       "    <tr>\n",
       "        <td>Academy of St. Martin in the Fields, Sir Neville Marriner &amp; Thurston Dart</td>\n",
       "        <td>Classical</td>\n",
       "        <td>5</td>\n",
       "    </tr>\n",
       "    <tr>\n",
       "        <td>Adrian Leaper &amp; Doreen de Feis</td>\n",
       "        <td>Classical</td>\n",
       "        <td>5</td>\n",
       "    </tr>\n",
       "    <tr>\n",
       "        <td>Alberto Turco &amp; Nova Schola Gregoriana</td>\n",
       "        <td>Classical</td>\n",
       "        <td>5</td>\n",
       "    </tr>\n",
       "    <tr>\n",
       "        <td>Antal Doráti &amp; London Symphony Orchestra</td>\n",
       "        <td>Classical</td>\n",
       "        <td>5</td>\n",
       "    </tr>\n",
       "    <tr>\n",
       "        <td>Barry Wordsworth &amp; BBC Concert Orchestra</td>\n",
       "        <td>Classical</td>\n",
       "        <td>5</td>\n",
       "    </tr>\n",
       "</table>"
      ],
      "text/plain": [
       "[('Eugene Ormandy', 'Classical', 7),\n",
       " ('Academy of St. Martin in the Fields & Sir Neville Marriner', 'Classical', 6),\n",
       " ('Berliner Philharmoniker & Herbert Von Karajan', 'Classical', 6),\n",
       " ('English Concert & Trevor Pinnock', 'Classical', 6),\n",
       " (\"The King's Singers\", 'Classical', 6),\n",
       " ('Academy of St. Martin in the Fields, Sir Neville Marriner & Thurston Dart', 'Classical', 5),\n",
       " ('Adrian Leaper & Doreen de Feis', 'Classical', 5),\n",
       " ('Alberto Turco & Nova Schola Gregoriana', 'Classical', 5),\n",
       " ('Antal Doráti & London Symphony Orchestra', 'Classical', 5),\n",
       " ('Barry Wordsworth & BBC Concert Orchestra', 'Classical', 5)]"
      ]
     },
     "execution_count": 9,
     "metadata": {},
     "output_type": "execute_result"
    }
   ],
   "source": [
    "%%sql\n",
    "\n",
    "SELECT ar.name artist_name, \n",
    "       g.name genre,   \n",
    "       COUNT(DISTINCT p.playlist_id) num_of_playlists\n",
    "FROM playlist p \n",
    "INNER JOIN playlist_track pt ON p.playlist_id = pt.playlist_id\n",
    "INNER JOIN track t ON t.track_id = pt.track_id\n",
    "INNER JOIN album al ON al.album_id = t.album_id\n",
    "INNER JOIN artist ar ON ar.artist_id = al.artist_id\n",
    "LEFT JOIN genre g ON g.genre_id = t.genre_id\n",
    "\n",
    "GROUP BY 1\n",
    "ORDER BY 3 DESC\n",
    "LIMIT 10;"
   ]
  },
  {
   "cell_type": "markdown",
   "metadata": {},
   "source": [
    "\n",
    "Eugene Ormandy is used in 7 playlists. After him, these artists are mentioned in 6 playlists and all of them in the classical genre:\n",
    "\n",
    "   * Academy of St. Martin in the Fields & Sir Neville Marriner\n",
    "   * Berliner Philharmoniker & Herbert Von Karajan\n",
    "   * English Concert & Trevor Pinnock\n",
    "   * The King's Singers\n",
    "\n"
   ]
  },
  {
   "cell_type": "markdown",
   "metadata": {},
   "source": [
    "## How many tracks have been purchased vs not purchased?"
   ]
  },
  {
   "cell_type": "code",
   "execution_count": 10,
   "metadata": {},
   "outputs": [
    {
     "name": "stdout",
     "output_type": "stream",
     "text": [
      "Done.\n"
     ]
    },
    {
     "data": {
      "text/html": [
       "<table>\n",
       "    <tr>\n",
       "        <th>purchase_category</th>\n",
       "        <th>amount</th>\n",
       "        <th>percentage</th>\n",
       "    </tr>\n",
       "    <tr>\n",
       "        <td>purchased</td>\n",
       "        <td>1806</td>\n",
       "        <td>51.55580930630887</td>\n",
       "    </tr>\n",
       "    <tr>\n",
       "        <td>not purchased</td>\n",
       "        <td>1697</td>\n",
       "        <td>48.44419069369112</td>\n",
       "    </tr>\n",
       "</table>"
      ],
      "text/plain": [
       "[('purchased', 1806, 51.55580930630887),\n",
       " ('not purchased', 1697, 48.44419069369112)]"
      ]
     },
     "execution_count": 10,
     "metadata": {},
     "output_type": "execute_result"
    }
   ],
   "source": [
    " %%sql            \n",
    "\n",
    "WITH track_invoice AS   (SELECT DISTINCT t.track_id FROM invoice i\n",
    "                         INNER JOIN invoice_line il \n",
    "                         ON il.invoice_id = i.invoice_id\n",
    "                         INNER JOIN track t \n",
    "                         ON t.track_id = il.track_id),\n",
    "\n",
    "track_only AS           (SELECT *\n",
    "                         FROM track),\n",
    "\n",
    "track_purchases AS      (SELECT t.track_id, \n",
    "                                t.name, CASE\n",
    "                            WHEN t.track_id = tiv.track_id THEN 'purchased'\n",
    "                            ELSE 'not purchased'\n",
    "                            END AS category\n",
    "                        FROM track_only t\n",
    "                        LEFT JOIN track_invoice tiv ON t.track_id = tiv.track_id)\n",
    "\n",
    "SELECT   category purchase_category, \n",
    "         COUNT(*) amount,\n",
    "         CAST(COUNT (tp.track_id) AS float) /(SELECT COUNT(*) FROM track_purchases) *100\n",
    "         percentage\n",
    "FROM track_purchases tp\n",
    "GROUP BY category\n",
    "ORDER BY 2 DESC;"
   ]
  },
  {
   "cell_type": "markdown",
   "metadata": {},
   "source": [
    "Another way to solve this: specify the number of the purchased tracks and total tracks, then the number of not purchased can be calculated"
   ]
  },
  {
   "cell_type": "code",
   "execution_count": 11,
   "metadata": {},
   "outputs": [
    {
     "name": "stdout",
     "output_type": "stream",
     "text": [
      "Done.\n"
     ]
    },
    {
     "data": {
      "text/html": [
       "<table>\n",
       "    <tr>\n",
       "        <th>num_purchased_tracks</th>\n",
       "        <th>num_not_purchased_tracks</th>\n",
       "    </tr>\n",
       "    <tr>\n",
       "        <td>1806</td>\n",
       "        <td>1697</td>\n",
       "    </tr>\n",
       "</table>"
      ],
      "text/plain": [
       "[(1806, 1697)]"
      ]
     },
     "execution_count": 11,
     "metadata": {},
     "output_type": "execute_result"
    }
   ],
   "source": [
    "%%sql\n",
    "SELECT \n",
    "    COUNT(DISTINCT track_id) num_purchased_tracks,\n",
    "     (SELECT COUNT(*) total_num FROM track) - \n",
    "        COUNT(DISTINCT track_id) num_not_purchased_tracks\n",
    "FROM invoice_line;"
   ]
  },
  {
   "cell_type": "markdown",
   "metadata": {},
   "source": [
    "\n",
    "The number of purchased tracks is more than the number of not purchased tracks but about 48% of tracks are not purchased so it seems the range of tracks in the store is not reflective of their sales popularity.\n",
    "\n"
   ]
  },
  {
   "cell_type": "markdown",
   "metadata": {
    "collapsed": true
   },
   "source": [
    "## Do protected vs non-protected media types have an effect on popularity?"
   ]
  },
  {
   "cell_type": "code",
   "execution_count": 12,
   "metadata": {},
   "outputs": [
    {
     "name": "stdout",
     "output_type": "stream",
     "text": [
      "Done.\n"
     ]
    },
    {
     "data": {
      "text/html": [
       "<table>\n",
       "    <tr>\n",
       "        <th>media_type_id</th>\n",
       "        <th>name</th>\n",
       "    </tr>\n",
       "    <tr>\n",
       "        <td>1</td>\n",
       "        <td>MPEG audio file</td>\n",
       "    </tr>\n",
       "    <tr>\n",
       "        <td>2</td>\n",
       "        <td>Protected AAC audio file</td>\n",
       "    </tr>\n",
       "    <tr>\n",
       "        <td>3</td>\n",
       "        <td>Protected MPEG-4 video file</td>\n",
       "    </tr>\n",
       "    <tr>\n",
       "        <td>4</td>\n",
       "        <td>Purchased AAC audio file</td>\n",
       "    </tr>\n",
       "    <tr>\n",
       "        <td>5</td>\n",
       "        <td>AAC audio file</td>\n",
       "    </tr>\n",
       "</table>"
      ],
      "text/plain": [
       "[(1, 'MPEG audio file'),\n",
       " (2, 'Protected AAC audio file'),\n",
       " (3, 'Protected MPEG-4 video file'),\n",
       " (4, 'Purchased AAC audio file'),\n",
       " (5, 'AAC audio file')]"
      ]
     },
     "execution_count": 12,
     "metadata": {},
     "output_type": "execute_result"
    }
   ],
   "source": [
    "%%sql\n",
    "SELECT *\n",
    "FROM media_type;"
   ]
  },
  {
   "cell_type": "code",
   "execution_count": 13,
   "metadata": {},
   "outputs": [
    {
     "name": "stdout",
     "output_type": "stream",
     "text": [
      "Done.\n"
     ]
    },
    {
     "data": {
      "text/html": [
       "<table>\n",
       "    <tr>\n",
       "        <th>media_type_id</th>\n",
       "        <th>name</th>\n",
       "        <th>protected_type</th>\n",
       "    </tr>\n",
       "    <tr>\n",
       "        <td>1</td>\n",
       "        <td>MPEG audio file</td>\n",
       "        <td>not protected</td>\n",
       "    </tr>\n",
       "    <tr>\n",
       "        <td>2</td>\n",
       "        <td>Protected AAC audio file</td>\n",
       "        <td>protected</td>\n",
       "    </tr>\n",
       "    <tr>\n",
       "        <td>3</td>\n",
       "        <td>Protected MPEG-4 video file</td>\n",
       "        <td>protected</td>\n",
       "    </tr>\n",
       "    <tr>\n",
       "        <td>4</td>\n",
       "        <td>Purchased AAC audio file</td>\n",
       "        <td>not protected</td>\n",
       "    </tr>\n",
       "    <tr>\n",
       "        <td>5</td>\n",
       "        <td>AAC audio file</td>\n",
       "        <td>not protected</td>\n",
       "    </tr>\n",
       "</table>"
      ],
      "text/plain": [
       "[(1, 'MPEG audio file', 'not protected'),\n",
       " (2, 'Protected AAC audio file', 'protected'),\n",
       " (3, 'Protected MPEG-4 video file', 'protected'),\n",
       " (4, 'Purchased AAC audio file', 'not protected'),\n",
       " (5, 'AAC audio file', 'not protected')]"
      ]
     },
     "execution_count": 13,
     "metadata": {},
     "output_type": "execute_result"
    }
   ],
   "source": [
    "%%sql\n",
    "\n",
    "SELECT *, CASE\n",
    "         WHEN name LIKE '%Protected%' THEN 'protected'\n",
    "         ELSE 'not protected'\n",
    "         END AS protected_type\n",
    "FROM media_type"
   ]
  },
  {
   "cell_type": "code",
   "execution_count": 14,
   "metadata": {},
   "outputs": [
    {
     "name": "stdout",
     "output_type": "stream",
     "text": [
      "Done.\n"
     ]
    },
    {
     "data": {
      "text/html": [
       "<table>\n",
       "    <tr>\n",
       "        <th>protected_type</th>\n",
       "        <th>total_sales</th>\n",
       "        <th>total_sales_percentage</th>\n",
       "    </tr>\n",
       "    <tr>\n",
       "        <td>Not Protected</td>\n",
       "        <td>43362.000000000364</td>\n",
       "        <td>91.28232915824327</td>\n",
       "    </tr>\n",
       "    <tr>\n",
       "        <td>Protected</td>\n",
       "        <td>4141.1700000000055</td>\n",
       "        <td>8.717670841756368</td>\n",
       "    </tr>\n",
       "</table>"
      ],
      "text/plain": [
       "[('Not Protected', 43362.000000000364, 91.28232915824327),\n",
       " ('Protected', 4141.1700000000055, 8.717670841756368)]"
      ]
     },
     "execution_count": 14,
     "metadata": {},
     "output_type": "execute_result"
    }
   ],
   "source": [
    "%%sql\n",
    "\n",
    "WITH pro_media_type AS (SELECT *, CASE\n",
    "                                 WHEN name LIKE '%Protected%' THEN 'Protected'\n",
    "                                 ELSE 'Not Protected'\n",
    "                                 END AS protected_type\n",
    "                       FROM media_type),\n",
    "\n",
    "      inv_sale AS      (SELECT * \n",
    "                       FROM invoice iv\n",
    "                       INNER JOIN invoice_line il \n",
    "                       ON il.invoice_id = iv.invoice_id\n",
    "                       INNER JOIN track t\n",
    "                       ON t.track_id = il.track_id\n",
    "                       )\n",
    "\n",
    "\n",
    "SELECT pmt.protected_type,\n",
    "       SUM(ins.total) total_sales,\n",
    "    SUM(CAST(ins.total AS float))/(SELECT SUM(inv_sale.total) FROM inv_sale)*100\n",
    "    total_sales_percentage\n",
    "\n",
    "FROM pro_media_type pmt\n",
    "INNER JOIN inv_sale ins ON pmt.media_type_id = ins.media_type_id\n",
    "GROUP  BY pmt.protected_type;"
   ]
  },
  {
   "cell_type": "markdown",
   "metadata": {},
   "source": [
    "Alternative way of solving it:"
   ]
  },
  {
   "cell_type": "code",
   "execution_count": 15,
   "metadata": {},
   "outputs": [
    {
     "name": "stdout",
     "output_type": "stream",
     "text": [
      "Done.\n"
     ]
    },
    {
     "data": {
      "text/html": [
       "<table>\n",
       "    <tr>\n",
       "        <th>protected_type</th>\n",
       "        <th>total_sales</th>\n",
       "        <th>total_sales_percentage</th>\n",
       "    </tr>\n",
       "    <tr>\n",
       "        <td>Not Protected</td>\n",
       "        <td>43362.000000000364</td>\n",
       "        <td>91.28232915824327</td>\n",
       "    </tr>\n",
       "    <tr>\n",
       "        <td>Protected</td>\n",
       "        <td>4141.1700000000055</td>\n",
       "        <td>8.717670841756368</td>\n",
       "    </tr>\n",
       "</table>"
      ],
      "text/plain": [
       "[('Not Protected', 43362.000000000364, 91.28232915824327),\n",
       " ('Protected', 4141.1700000000055, 8.717670841756368)]"
      ]
     },
     "execution_count": 15,
     "metadata": {},
     "output_type": "execute_result"
    }
   ],
   "source": [
    "%%sql\n",
    "\n",
    "WITH pm_type AS (SELECT * , CASE\n",
    "                       WHEN mt.name LIKE '%Protected%' THEN 'Protected'\n",
    "                       ELSE 'Not Protected'\n",
    "                       END AS protected_type\n",
    "\n",
    "                FROM invoice iv\n",
    "                INNER JOIN invoice_line il \n",
    "                ON il.invoice_id = iv.invoice_id\n",
    "                INNER JOIN track t\n",
    "                ON t.track_id = il.track_id\n",
    "                INNER JOIN media_type mt on mt.media_type_id = t.media_type_id)\n",
    "\n",
    "\n",
    "SELECT protected_type,\n",
    "       SUM(total) total_sales,\n",
    "    SUM(CAST(total AS float))/(SELECT SUM(total) FROM pm_type)*100\n",
    "    total_sales_percentage\n",
    "    \n",
    "FROM pm_type\n",
    "GROUP  BY protected_type;"
   ]
  },
  {
   "cell_type": "markdown",
   "metadata": {},
   "source": [
    "The above table shows that the not-protected media type has allocated more than 90% of the sales to itself. So not-protected media is more popular than the protected ones."
   ]
  },
  {
   "cell_type": "markdown",
   "metadata": {},
   "source": [
    "# Conclusion\n",
    "Analyzing the Chinook database, we have figured out that Rock, Punk, and Metal genre sell the most tracks in the USA respectively.\n",
    "\n",
    "The USA has the most number of customers and the total value of sales. Canada and Brazil are at the second and third positions respectively. The most average sale per customer and the most average order are in the Czech Republic.\n",
    "\n",
    "Eugene Ormandy in Classical genre is used in the highest number of playlists. It is also interesting to know that 48% of tracks are not purchased so it seems the range of tracks in the store is not reflective of their sales popularity.\n",
    "\n",
    "It is also understood that the not-protected tracks have a significantly higher number of sales.\n",
    "\n",
    "So these recommendations come out of the analysis:\n",
    "\n",
    "* to sell the music tracks in Rock, Punk, and Metal more than the others.\n",
    "* to make playlists with the artists in the above genre\n",
    "* to sell the tracks with the not-protected media type\n",
    "* to sell popular tracks rather than the whole album"
   ]
  },
  {
   "cell_type": "code",
   "execution_count": null,
   "metadata": {
    "collapsed": true
   },
   "outputs": [],
   "source": []
  }
 ],
 "metadata": {
  "kernelspec": {
   "display_name": "Python 3",
   "language": "python",
   "name": "python3"
  },
  "language_info": {
   "codemirror_mode": {
    "name": "ipython",
    "version": 3
   },
   "file_extension": ".py",
   "mimetype": "text/x-python",
   "name": "python",
   "nbconvert_exporter": "python",
   "pygments_lexer": "ipython3",
   "version": "3.7.4"
  }
 },
 "nbformat": 4,
 "nbformat_minor": 2
}
